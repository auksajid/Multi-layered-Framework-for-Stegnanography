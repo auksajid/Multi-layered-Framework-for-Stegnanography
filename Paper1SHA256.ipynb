{
  "nbformat": 4,
  "nbformat_minor": 0,
  "metadata": {
    "colab": {
      "provenance": [],
      "gpuType": "T4"
    },
    "kernelspec": {
      "name": "python3",
      "display_name": "Python 3"
    },
    "language_info": {
      "name": "python"
    },
    "accelerator": "GPU"
  },
  "cells": [
    {
      "cell_type": "code",
      "source": [
        "#!pip install pycryptodome\n",
        "from PIL import Image\n",
        "from Crypto.Cipher import AES\n",
        "from Crypto.Hash import SHA256\n",
        "import os\n",
        "import random\n",
        "import hashlib"
      ],
      "metadata": {
        "id": "BFVrPQ0wVE_3"
      },
      "execution_count": null,
      "outputs": []
    },
    {
      "cell_type": "code",
      "source": [
        "def generate_key(length=32):\n",
        "  \"\"\"\n",
        "  Generates a cryptographically secure key using a combination of:\n",
        "    - Secure random number generation\n",
        "    - SHA-256 hashing for improved randomness and strength\n",
        "\n",
        "  Args:\n",
        "    length: Desired length of the key in bytes.\n",
        "\n",
        "  Returns:\n",
        "    A byte string representing the generated key.\n",
        "  \"\"\"\n",
        "\n",
        "  # Generate a random seed\n",
        "  seed = random.getrandbits(256).to_bytes(32, byteorder='big')\n",
        "\n",
        "  # Hash the seed with SHA-256\n",
        "  hash_obj = hashlib.sha256(seed)\n",
        "  hashed_seed = hash_obj.digest()\n",
        "\n",
        "  # Truncate or pad the hashed seed to the desired key length\n",
        "  if len(hashed_seed) > length:\n",
        "    key = hashed_seed[:length]\n",
        "  else:\n",
        "    key = hashed_seed + os.urandom(length - len(hashed_seed))\n",
        "\n",
        "  return key"
      ],
      "metadata": {
        "id": "ZjV03Tx-W7yU"
      },
      "execution_count": null,
      "outputs": []
    },
    {
      "cell_type": "code",
      "source": [
        "def pad(data):\n",
        "    \"\"\"Pads the data to be a multiple of 16 bytes for AES encryption.\"\"\"\n",
        "    return data + (16 - len(data) % 16) * b'\\x00'\n",
        "\n",
        "def unpad(data):\n",
        "    \"\"\"Removes the padding from the encrypted data.\"\"\"\n",
        "    return data.rstrip(b'\\x00')"
      ],
      "metadata": {
        "id": "ZwX9h9k2XCgD"
      },
      "execution_count": null,
      "outputs": []
    },
    {
      "cell_type": "code",
      "source": [
        "def encrypt_aes(key, data):\n",
        "    \"\"\"Encrypts the data using AES-128 in CBC mode.\"\"\"\n",
        "    cipher = AES.new(key, AES.MODE_CBC, iv=os.urandom(16))\n",
        "    ciphertext = cipher.encrypt(pad(data))\n",
        "    return ciphertext, cipher.iv\n",
        "\n",
        "def decrypt_aes(key, iv, ciphertext):\n",
        "    \"\"\"Decrypts the data using AES-128 in CBC mode.\"\"\"\n",
        "    cipher = AES.new(key, AES.MODE_CBC, iv=iv)\n",
        "    plaintext = unpad(cipher.decrypt(ciphertext))\n",
        "    return plaintext"
      ],
      "metadata": {
        "id": "xFitJiSRXGJN"
      },
      "execution_count": null,
      "outputs": []
    },
    {
      "cell_type": "code",
      "execution_count": null,
      "metadata": {
        "id": "pQfaOcRlUpAW"
      },
      "outputs": [],
      "source": [
        "def lsb_embed(cover_image_path, secret_message):\n",
        "    \"\"\"Embeds the encrypted message into the least significant bits of the cover image.\"\"\"\n",
        "    img = Image.open(cover_image_path).convert('RGB')\n",
        "    pixels = img.load()\n",
        "    width, height = img.size\n",
        "\n",
        "    # Generate a key using the secure method\n",
        "    key = generate_key()\n",
        "\n",
        "    # Encrypt the secret message\n",
        "    encrypted_message, iv = encrypt_aes(key, secret_message.encode())\n",
        "\n",
        "    # Calculate SHA-256 hash of the encrypted message\n",
        "    hash_obj = SHA256.new()\n",
        "    hash_obj.update(encrypted_message)\n",
        "    message_hash = hash_obj.digest()\n",
        "\n",
        "     # Embed the key, hash, message length, encrypted message, and IV\n",
        "    message_len = len(encrypted_message)  # Calculate the length of the encrypted message\n",
        "    data_to_embed = key + message_hash + message_len.to_bytes(4, byteorder='big') + encrypted_message + iv  # Embed message length\n",
        "    index = 0\n",
        "    for byte in data_to_embed:\n",
        "        for j in range(8):\n",
        "            bit = (byte >> (7 - j)) & 1\n",
        "            r, g, b = pixels[index % width, index // width]\n",
        "            r = (r & ~1) | bit\n",
        "            pixels[index % width, index // width] = (r, g, b)\n",
        "            index += 1\n",
        "\n",
        "    img.save(\"/content/drive/MyDrive/Output_SHA256/Image.png\")"
      ]
    },
    {
      "cell_type": "code",
      "source": [
        "def lsb_extract(stego_image_path):\n",
        "    \"\"\"Extracts the encrypted message from the stego image.\"\"\"\n",
        "    img = Image.open(stego_image_path)\n",
        "    pixels = img.load()\n",
        "    width, height = img.size\n",
        "\n",
        "    # Extract the key, hash, message length, message, and IV\n",
        "    key_len = 32  # Assuming key length is 32 bytes\n",
        "    hash_len = 32  # SHA-256 hash is 32 bytes\n",
        "    iv_len = 16  # IV length is 16 bytes\n",
        "\n",
        "    extracted_data = bytearray()\n",
        "    index = 0\n",
        "\n",
        "    # Calculate total bits to extract for key, hash, message length, message and IV\n",
        "    # + message_len to ensure we extract enough bits for the entire message\n",
        "    # Ensure we extract enough bits for the entire message\n",
        "    total_bits_to_extract = 8 * (key_len + hash_len + 4)  # Key, Hash, and Message Length\n",
        "    for _ in range(total_bits_to_extract):\n",
        "        if index >= width * height:\n",
        "            return None  # or raise an exception\n",
        "        r, _, _ = pixels[index % width, index // width]\n",
        "        extracted_data.append(r & 1)\n",
        "        index += 1\n",
        "\n",
        "    # Convert the initial bitstream to bytes (for key, hash, message length)\n",
        "    extracted_data_bytes = bytes(int(\"\".join(map(str, extracted_data[i:i + 8])), 2) for i in range(0, len(extracted_data), 8))\n",
        "\n",
        "    # Extract key, hash, message length from the bytes\n",
        "    extracted_key = extracted_data_bytes[:key_len]\n",
        "    extracted_hash = extracted_data_bytes[key_len:key_len + hash_len]\n",
        "    message_len = int.from_bytes(extracted_data_bytes[key_len + hash_len:key_len + hash_len + 4], byteorder='big')\n",
        "\n",
        "    # Now calculate total bits for message and IV\n",
        "    remaining_bits_to_extract = 8 * (message_len + iv_len)\n",
        "    extracted_message_data = bytearray()\n",
        "    for _ in range(remaining_bits_to_extract):\n",
        "        if index >= width * height:\n",
        "            return None  # or raise an exception\n",
        "        r, _, _ = pixels[index % width, index // width]\n",
        "        extracted_message_data.append(r & 1)\n",
        "        index += 1\n",
        "\n",
        "    # Convert message and IV bitstream to bytes\n",
        "    extracted_message_bytes = bytes(int(\"\".join(map(str, extracted_message_data[i:i + 8])), 2) for i in range(0, len(extracted_message_data), 8))\n",
        "\n",
        "\n",
        "    # Extract message and IV\n",
        "    extracted_message = extracted_message_bytes[:message_len]\n",
        "    extracted_iv = extracted_message_bytes[message_len:]\n",
        "\n",
        "    # Decrypt the message\n",
        "    decrypted_message = decrypt_aes(extracted_key, extracted_iv, extracted_message)\n",
        "\n",
        "    # Calculate SHA-256 hash of the extracted message\n",
        "    hash_obj = SHA256.new()\n",
        "    hash_obj.update(extracted_message)\n",
        "    calculated_hash = hash_obj.digest()\n",
        "\n",
        "    if calculated_hash == extracted_hash:\n",
        "        return decrypted_message.decode()\n",
        "    else:\n",
        "        return None"
      ],
      "metadata": {
        "id": "aQ0VxbdeXJsK"
      },
      "execution_count": null,
      "outputs": []
    },
    {
      "cell_type": "code",
      "source": [
        "# Example usage\n",
        "secret_message = \"This is a secret message.\"\n",
        "\n",
        "lsb_embed(\"/content/drive/MyDrive/Paper2Images_Input/Image.png\", secret_message)\n",
        "extracted_message = lsb_extract(\"/content/drive/MyDrive/Output_SHA256/Image.png\")\n",
        "\n",
        "if extracted_message:\n",
        "    print(\"Extracted message:\", extracted_message)\n",
        "else:\n",
        "    print(\"Message extraction failed or message has been tampered with.\")"
      ],
      "metadata": {
        "colab": {
          "base_uri": "https://localhost:8080/"
        },
        "id": "sgKRHjllUt0u",
        "outputId": "e3b250f1-ba94-4bd0-802c-31c5639b786a"
      },
      "execution_count": null,
      "outputs": [
        {
          "output_type": "stream",
          "name": "stdout",
          "text": [
            "Extracted message: This is a secret message.\n"
          ]
        }
      ]
    },
    {
      "cell_type": "code",
      "source": [
        "def lsb_embed(cover_image_path, secret_message):\n",
        "    \"\"\"Embeds the encrypted message into the least significant bits of the cover image.\"\"\"\n",
        "    img = Image.open(cover_image_path).convert('RGB')\n",
        "    pixels = img.load()\n",
        "    width, height = img.size\n",
        "\n",
        "    # Generate a key using the secure method\n",
        "    key = generate_key()\n",
        "\n",
        "    # Encrypt the secret message\n",
        "    encrypted_message, iv = encrypt_aes(key, secret_message.encode())\n",
        "\n",
        "    # Calculate SHA-256 hash of the encrypted message\n",
        "    hash_obj = SHA256.new()\n",
        "    hash_obj.update(encrypted_message)\n",
        "    message_hash = hash_obj.digest()\n",
        "\n",
        "     # Embed the key, hash, message length, encrypted message, and IV\n",
        "    message_len = len(encrypted_message)  # Calculate the length of the encrypted message\n",
        "    data_to_embed = key + message_hash + message_len.to_bytes(4, byteorder='big') + encrypted_message + iv  # Embed message length\n",
        "    index = 0\n",
        "    for byte in data_to_embed:\n",
        "        for j in range(8):\n",
        "            bit = (byte >> (7 - j)) & 1\n",
        "            r, g, b = pixels[index % width, index // width]\n",
        "            r = (r & ~1) | bit\n",
        "            pixels[index % width, index // width] = (r, g, b)\n",
        "            index += 1\n",
        "\n",
        "    img.save(\"/content/drive/MyDrive/Output_SHA256/Image1.png\")\n",
        "# Example usage\n",
        "secret_message = \"This$3 3D World is a secret message.\"\n",
        "\n",
        "lsb_embed(\"/content/drive/MyDrive/Paper2Images_Input/Image1.png\", secret_message)\n",
        "extracted_message = lsb_extract(\"/content/drive/MyDrive/Output_SHA256/Image1.png\")\n",
        "\n",
        "if extracted_message:\n",
        "    print(\"Extracted message:\", extracted_message)\n",
        "else:\n",
        "    print(\"Message extraction failed or message has been tampered with.\")"
      ],
      "metadata": {
        "id": "qhKZxfegecs6",
        "colab": {
          "base_uri": "https://localhost:8080/"
        },
        "outputId": "5a25e79e-cc91-4f30-a01d-22d4987b2ed1"
      },
      "execution_count": null,
      "outputs": [
        {
          "output_type": "stream",
          "name": "stdout",
          "text": [
            "Extracted message: This$3 3D World is a secret message.\n"
          ]
        }
      ]
    },
    {
      "cell_type": "code",
      "source": [],
      "metadata": {
        "id": "w5UpPHjser63"
      },
      "execution_count": null,
      "outputs": []
    },
    {
      "cell_type": "code",
      "source": [
        "def lsb_embed(cover_image_path, secret_message):\n",
        "    \"\"\"Embeds the encrypted message into the least significant bits of the cover image.\"\"\"\n",
        "    img = Image.open(cover_image_path).convert('RGB')\n",
        "    pixels = img.load()\n",
        "    width, height = img.size\n",
        "\n",
        "    # Generate a key using the secure method\n",
        "    key = generate_key()\n",
        "\n",
        "    # Encrypt the secret message\n",
        "    encrypted_message, iv = encrypt_aes(key, secret_message.encode())\n",
        "\n",
        "    # Calculate SHA-256 hash of the encrypted message\n",
        "    hash_obj = SHA256.new()\n",
        "    hash_obj.update(encrypted_message)\n",
        "    message_hash = hash_obj.digest()\n",
        "\n",
        "     # Embed the key, hash, message length, encrypted message, and IV\n",
        "    message_len = len(encrypted_message)  # Calculate the length of the encrypted message\n",
        "    data_to_embed = key + message_hash + message_len.to_bytes(4, byteorder='big') + encrypted_message + iv  # Embed message length\n",
        "    index = 0\n",
        "    for byte in data_to_embed:\n",
        "        for j in range(8):\n",
        "            bit = (byte >> (7 - j)) & 1\n",
        "            r, g, b = pixels[index % width, index // width]\n",
        "            r = (r & ~1) | bit\n",
        "            pixels[index % width, index // width] = (r, g, b)\n",
        "            index += 1\n",
        "\n",
        "    img.save(\"/content/drive/MyDrive/Output_SHA256/Image2.png\")\n",
        "# Example usage\n",
        "secret_message = \"\"\"for _ in range(bits_to_extract):\n",
        "            if index >= width * height:\n",
        "                break  # Stop if we reach the end of the image\n",
        "            r, _, _ = pixels[index % width, index // width]\n",
        "            extracted_data.append(r & 1)\n",
        "            index += 1\"\"\"\n",
        "\n",
        "lsb_embed(\"/content/drive/MyDrive/Paper2Images_Input/Image2.png\", secret_message)\n",
        "extracted_message = lsb_extract(\"/content/drive/MyDrive/Output_SHA256/Image2.png\")\n",
        "\n",
        "if extracted_message:\n",
        "    print(\"Extracted message:\", extracted_message)\n",
        "else:\n",
        "    print(\"Message extraction failed or message has been tampered with.\")"
      ],
      "metadata": {
        "colab": {
          "base_uri": "https://localhost:8080/"
        },
        "outputId": "dbc8cb48-8d5f-473d-9751-9eaef1d3fbd7",
        "id": "zhdFWcCVesa9"
      },
      "execution_count": null,
      "outputs": [
        {
          "output_type": "stream",
          "name": "stdout",
          "text": [
            "Extracted message: for _ in range(bits_to_extract):\n",
            "            if index >= width * height:\n",
            "                break  # Stop if we reach the end of the image\n",
            "            r, _, _ = pixels[index % width, index // width]\n",
            "            extracted_data.append(r & 1)\n",
            "            index += 1\n"
          ]
        }
      ]
    },
    {
      "cell_type": "code",
      "source": [
        "def lsb_embed(cover_image_path, secret_message):\n",
        "    \"\"\"Embeds the encrypted message into the least significant bits of the cover image.\"\"\"\n",
        "    img = Image.open(cover_image_path).convert('RGB')\n",
        "    pixels = img.load()\n",
        "    width, height = img.size\n",
        "\n",
        "    # Generate a key using the secure method\n",
        "    key = generate_key()\n",
        "\n",
        "    # Encrypt the secret message\n",
        "    encrypted_message, iv = encrypt_aes(key, secret_message.encode())\n",
        "\n",
        "    # Calculate SHA-256 hash of the encrypted message\n",
        "    hash_obj = SHA256.new()\n",
        "    hash_obj.update(encrypted_message)\n",
        "    message_hash = hash_obj.digest()\n",
        "\n",
        "     # Embed the key, hash, message length, encrypted message, and IV\n",
        "    message_len = len(encrypted_message)  # Calculate the length of the encrypted message\n",
        "    data_to_embed = key + message_hash + message_len.to_bytes(4, byteorder='big') + encrypted_message + iv  # Embed message length\n",
        "    index = 0\n",
        "    for byte in data_to_embed:\n",
        "        for j in range(8):\n",
        "            bit = (byte >> (7 - j)) & 1\n",
        "            r, g, b = pixels[index % width, index // width]\n",
        "            r = (r & ~1) | bit\n",
        "            pixels[index % width, index // width] = (r, g, b)\n",
        "            index += 1\n",
        "\n",
        "    img.save(\"/content/drive/MyDrive/Output_SHA256/Image3.png\")\n",
        "# Example usage\n",
        "secret_message = \"\"\"# Convert the complete bitstream to bytes after processing all images\n",
        "    extracted_data_bytes = bytes(int(\"\".join(map(str, extracted_data[i:i + 8])), 2) for i in range(0, len(extracted_data), 8))\n",
        "\n",
        "    # Ensure we have enough data to extract the message and IV\n",
        "    if len(extracted_data_bytes) < message_len + iv_len:\n",
        "        return None  # or raise an exception\n",
        "\n",
        "    # Extract message and IV from the final bytes\n",
        "    extracted_message = extracted_data_bytes[:message_len]\n",
        "    extracted_iv = extracted_data_bytes[message_len:message_len + iv_len]\n",
        "    \"\"\"\n",
        "\n",
        "lsb_embed(\"/content/drive/MyDrive/Paper2Images_Input/Image3.png\", secret_message)\n",
        "extracted_message = lsb_extract(\"/content/drive/MyDrive/Output_SHA256/Image3.png\")\n",
        "\n",
        "\n",
        "if extracted_message:\n",
        "    print(\"Extracted message:\", extracted_message)\n",
        "else:\n",
        "    print(\"Message extraction failed or message has been tampered with.\")"
      ],
      "metadata": {
        "colab": {
          "base_uri": "https://localhost:8080/"
        },
        "outputId": "7f5426fd-baac-4646-a758-aa2c9eed081e",
        "id": "NvnuSz-ke9Cm"
      },
      "execution_count": null,
      "outputs": [
        {
          "output_type": "stream",
          "name": "stdout",
          "text": [
            "Extracted message: # Convert the complete bitstream to bytes after processing all images\n",
            "    extracted_data_bytes = bytes(int(\"\".join(map(str, extracted_data[i:i + 8])), 2) for i in range(0, len(extracted_data), 8))\n",
            "\n",
            "    # Ensure we have enough data to extract the message and IV\n",
            "    if len(extracted_data_bytes) < message_len + iv_len:\n",
            "        return None  # or raise an exception\n",
            "\n",
            "    # Extract message and IV from the final bytes\n",
            "    extracted_message = extracted_data_bytes[:message_len]\n",
            "    extracted_iv = extracted_data_bytes[message_len:message_len + iv_len]\n",
            "    \n"
          ]
        }
      ]
    },
    {
      "cell_type": "code",
      "source": [],
      "metadata": {
        "id": "DXD4hNublYcu"
      },
      "execution_count": null,
      "outputs": []
    },
    {
      "cell_type": "code",
      "source": [
        "def lsb_embed(cover_image_path, secret_message):\n",
        "    \"\"\"Embeds the encrypted message into the least significant bits of the cover image.\"\"\"\n",
        "    img = Image.open(cover_image_path).convert('RGB')\n",
        "    pixels = img.load()\n",
        "    width, height = img.size\n",
        "\n",
        "    # Generate a key using the secure method\n",
        "    key = generate_key()\n",
        "\n",
        "    # Encrypt the secret message\n",
        "    encrypted_message, iv = encrypt_aes(key, secret_message.encode())\n",
        "\n",
        "    # Calculate SHA-256 hash of the encrypted message\n",
        "    hash_obj = SHA256.new()\n",
        "    hash_obj.update(encrypted_message)\n",
        "    message_hash = hash_obj.digest()\n",
        "\n",
        "     # Embed the key, hash, message length, encrypted message, and IV\n",
        "    message_len = len(encrypted_message)  # Calculate the length of the encrypted message\n",
        "    data_to_embed = key + message_hash + message_len.to_bytes(4, byteorder='big') + encrypted_message + iv  # Embed message length\n",
        "    index = 0\n",
        "    for byte in data_to_embed:\n",
        "        for j in range(8):\n",
        "            bit = (byte >> (7 - j)) & 1\n",
        "            r, g, b = pixels[index % width, index // width]\n",
        "            r = (r & ~1) | bit\n",
        "            pixels[index % width, index // width] = (r, g, b)\n",
        "            index += 1\n",
        "\n",
        "    img.save(\"/content/drive/MyDrive/Output_SHA256/Image4.png\")\n",
        "# Example usage\n",
        "secret_message = \"\"\"Extracted_data_bytes = bytes(int(\"\".join(map(str, extracted_data[i:i + 8])), 2) for i in range(0, len(extracted_data), 8))\n",
        "\n",
        "    # Ensure we have enough data to extract the message and IV\n",
        "    if len(extracted_data_bytes) < message_len + iv_len:\n",
        "        return None  # or raise an exception\n",
        "\n",
        "    # Extract message and IV from the final bytes\n",
        "    extracted_message = extracted_data_bytes[:message_len]\n",
        "    extracted_iv = extracted_data_bytes[message_len:message_len + iv_len]\n",
        "    \"\"\"\n",
        "\n",
        "lsb_embed(\"/content/drive/MyDrive/Paper2Images_Input/Image4.png\", secret_message)\n",
        "extracted_message = lsb_extract(\"/content/drive/MyDrive/Output_SHA256/Image4.png\")\n",
        "\n",
        "\n",
        "if extracted_message:\n",
        "    print(\"Extracted message:\", extracted_message)\n",
        "else:\n",
        "    print(\"Message extraction failed or message has been tampered with.\")"
      ],
      "metadata": {
        "colab": {
          "base_uri": "https://localhost:8080/"
        },
        "outputId": "26dfa7f5-3a72-4d1d-ae8b-481030023cb8",
        "id": "MtA33RUblY8c"
      },
      "execution_count": null,
      "outputs": [
        {
          "output_type": "stream",
          "name": "stdout",
          "text": [
            "Extracted message: Extracted_data_bytes = bytes(int(\"\".join(map(str, extracted_data[i:i + 8])), 2) for i in range(0, len(extracted_data), 8))\n",
            "\n",
            "    # Ensure we have enough data to extract the message and IV\n",
            "    if len(extracted_data_bytes) < message_len + iv_len:\n",
            "        return None  # or raise an exception\n",
            "\n",
            "    # Extract message and IV from the final bytes\n",
            "    extracted_message = extracted_data_bytes[:message_len]\n",
            "    extracted_iv = extracted_data_bytes[message_len:message_len + iv_len]\n",
            "    \n"
          ]
        }
      ]
    },
    {
      "cell_type": "code",
      "source": [],
      "metadata": {
        "id": "TdJHDQycmKTT"
      },
      "execution_count": null,
      "outputs": []
    },
    {
      "cell_type": "code",
      "source": [
        "def lsb_embed(cover_image_path, secret_message):\n",
        "    \"\"\"Embeds the encrypted message into the least significant bits of the cover image.\"\"\"\n",
        "    img = Image.open(cover_image_path).convert('RGB')\n",
        "    pixels = img.load()\n",
        "    width, height = img.size\n",
        "\n",
        "    # Generate a key using the secure method\n",
        "    key = generate_key()\n",
        "\n",
        "    # Encrypt the secret message\n",
        "    encrypted_message, iv = encrypt_aes(key, secret_message.encode())\n",
        "\n",
        "    # Calculate SHA-256 hash of the encrypted message\n",
        "    hash_obj = SHA256.new()\n",
        "    hash_obj.update(encrypted_message)\n",
        "    message_hash = hash_obj.digest()\n",
        "\n",
        "     # Embed the key, hash, message length, encrypted message, and IV\n",
        "    message_len = len(encrypted_message)  # Calculate the length of the encrypted message\n",
        "    data_to_embed = key + message_hash + message_len.to_bytes(4, byteorder='big') + encrypted_message + iv  # Embed message length\n",
        "    index = 0\n",
        "    for byte in data_to_embed:\n",
        "        for j in range(8):\n",
        "            bit = (byte >> (7 - j)) & 1\n",
        "            r, g, b = pixels[index % width, index // width]\n",
        "            r = (r & ~1) | bit\n",
        "            pixels[index % width, index // width] = (r, g, b)\n",
        "            index += 1\n",
        "\n",
        "    img.save(\"/content/drive/MyDrive/Output_SHA256/Image5.png\")\n",
        "# Example usage\n",
        "secret_message = \"\"\"After processing all images\n",
        "    extracted_data_bytes = bytes(int(\"\".join(map(str, extracted_data[i:i + 8])), 2) for i in range(0, len(extracted_data), 8))\n",
        "\n",
        "    # Ensure we have enough data to extract the message and IV\n",
        "    if len(extracted_data_bytes) < message_len + iv_len:\n",
        "        return None  # or raise an exception\n",
        "\n",
        "    # Extract message and IV from the final bytes\n",
        "    extracted_message = extracted_data_bytes[:message_len]\n",
        "    extracted_iv = extracted_data_bytes[message_len:message_len + iv_len]\n",
        "    \"\"\"\n",
        "\n",
        "lsb_embed(\"/content/drive/MyDrive/Paper2Images_Input/Image5.png\", secret_message)\n",
        "extracted_message = lsb_extract(\"/content/drive/MyDrive/Output_SHA256/Image5.png\")\n",
        "\n",
        "\n",
        "if extracted_message:\n",
        "    print(\"Extracted message:\", extracted_message)\n",
        "else:\n",
        "    print(\"Message extraction failed or message has been tampered with.\")"
      ],
      "metadata": {
        "colab": {
          "base_uri": "https://localhost:8080/"
        },
        "outputId": "f65bafa3-904f-4292-bac8-6098e3656ea6",
        "id": "oLOhtg_qmKvL"
      },
      "execution_count": null,
      "outputs": [
        {
          "output_type": "stream",
          "name": "stdout",
          "text": [
            "Extracted message: After processing all images\n",
            "    extracted_data_bytes = bytes(int(\"\".join(map(str, extracted_data[i:i + 8])), 2) for i in range(0, len(extracted_data), 8))\n",
            "\n",
            "    # Ensure we have enough data to extract the message and IV\n",
            "    if len(extracted_data_bytes) < message_len + iv_len:\n",
            "        return None  # or raise an exception\n",
            "\n",
            "    # Extract message and IV from the final bytes\n",
            "    extracted_message = extracted_data_bytes[:message_len]\n",
            "    extracted_iv = extracted_data_bytes[message_len:message_len + iv_len]\n",
            "    \n"
          ]
        }
      ]
    },
    {
      "cell_type": "code",
      "source": [],
      "metadata": {
        "id": "f8l8ADtvmUtq"
      },
      "execution_count": null,
      "outputs": []
    },
    {
      "cell_type": "code",
      "source": [
        "def lsb_embed(cover_image_path, secret_message):\n",
        "    \"\"\"Embeds the encrypted message into the least significant bits of the cover image.\"\"\"\n",
        "    img = Image.open(cover_image_path).convert('RGB')\n",
        "    pixels = img.load()\n",
        "    width, height = img.size\n",
        "\n",
        "    # Generate a key using the secure method\n",
        "    key = generate_key()\n",
        "\n",
        "    # Encrypt the secret message\n",
        "    encrypted_message, iv = encrypt_aes(key, secret_message.encode())\n",
        "\n",
        "    # Calculate SHA-256 hash of the encrypted message\n",
        "    hash_obj = SHA256.new()\n",
        "    hash_obj.update(encrypted_message)\n",
        "    message_hash = hash_obj.digest()\n",
        "\n",
        "     # Embed the key, hash, message length, encrypted message, and IV\n",
        "    message_len = len(encrypted_message)  # Calculate the length of the encrypted message\n",
        "    data_to_embed = key + message_hash + message_len.to_bytes(4, byteorder='big') + encrypted_message + iv  # Embed message length\n",
        "    index = 0\n",
        "    for byte in data_to_embed:\n",
        "        for j in range(8):\n",
        "            bit = (byte >> (7 - j)) & 1\n",
        "            r, g, b = pixels[index % width, index // width]\n",
        "            r = (r & ~1) | bit\n",
        "            pixels[index % width, index // width] = (r, g, b)\n",
        "            index += 1\n",
        "\n",
        "    img.save(\"/content/drive/MyDrive/Output_SHA256/Image6.png\")\n",
        "# Example usage\n",
        "secret_message = \"\"\"Ex-$xtracted_data_bytes = bytes(int(\"\".join(map(str, extracted_data[i:i + 8])), 2) for i in range(0, len(extracted_data), 8))\n",
        "\n",
        "    # Ensure we have enough data to extract the message and IV\n",
        "    if len(extracted_data_bytes) < message_len + iv_len:\n",
        "        return None  # or raise an exception\n",
        "\n",
        "    # Extract message and IV from the final bytes\n",
        "    extracted_message = extracted_data_bytes[:message_len]\n",
        "    extracted_iv = extracted_data_bytes[message_len:message_len + iv_len]\n",
        "    \"\"\"\n",
        "\n",
        "lsb_embed(\"/content/drive/MyDrive/Paper2Images_Input/Image6.png\", secret_message)\n",
        "extracted_message = lsb_extract(\"/content/drive/MyDrive/Output_SHA256/Image6.png\")\n",
        "\n",
        "\n",
        "if extracted_message:\n",
        "    print(\"Extracted message:\", extracted_message)\n",
        "else:\n",
        "    print(\"Message extraction failed or message has been tampered with.\")"
      ],
      "metadata": {
        "colab": {
          "base_uri": "https://localhost:8080/"
        },
        "outputId": "5263133c-3dd0-45ce-a914-18316feff227",
        "id": "x2DrgU_xmVJL"
      },
      "execution_count": null,
      "outputs": [
        {
          "output_type": "stream",
          "name": "stdout",
          "text": [
            "Extracted message: Ex-$xtracted_data_bytes = bytes(int(\"\".join(map(str, extracted_data[i:i + 8])), 2) for i in range(0, len(extracted_data), 8))\n",
            "\n",
            "    # Ensure we have enough data to extract the message and IV\n",
            "    if len(extracted_data_bytes) < message_len + iv_len:\n",
            "        return None  # or raise an exception\n",
            "\n",
            "    # Extract message and IV from the final bytes\n",
            "    extracted_message = extracted_data_bytes[:message_len]\n",
            "    extracted_iv = extracted_data_bytes[message_len:message_len + iv_len]\n",
            "    \n"
          ]
        }
      ]
    },
    {
      "cell_type": "code",
      "source": [],
      "metadata": {
        "id": "gbDjwSWAml5K"
      },
      "execution_count": null,
      "outputs": []
    },
    {
      "cell_type": "code",
      "source": [
        "def lsb_embed(cover_image_path, secret_message):\n",
        "    \"\"\"Embeds the encrypted message into the least significant bits of the cover image.\"\"\"\n",
        "    img = Image.open(cover_image_path).convert('RGB')\n",
        "    pixels = img.load()\n",
        "    width, height = img.size\n",
        "\n",
        "    # Generate a key using the secure method\n",
        "    key = generate_key()\n",
        "\n",
        "    # Encrypt the secret message\n",
        "    encrypted_message, iv = encrypt_aes(key, secret_message.encode())\n",
        "\n",
        "    # Calculate SHA-256 hash of the encrypted message\n",
        "    hash_obj = SHA256.new()\n",
        "    hash_obj.update(encrypted_message)\n",
        "    message_hash = hash_obj.digest()\n",
        "\n",
        "     # Embed the key, hash, message length, encrypted message, and IV\n",
        "    message_len = len(encrypted_message)  # Calculate the length of the encrypted message\n",
        "    data_to_embed = key + message_hash + message_len.to_bytes(4, byteorder='big') + encrypted_message + iv  # Embed message length\n",
        "    index = 0\n",
        "    for byte in data_to_embed:\n",
        "        for j in range(8):\n",
        "            bit = (byte >> (7 - j)) & 1\n",
        "            r, g, b = pixels[index % width, index // width]\n",
        "            r = (r & ~1) | bit\n",
        "            pixels[index % width, index // width] = (r, g, b)\n",
        "            index += 1\n",
        "\n",
        "    img.save(\"/content/drive/MyDrive/Output_SHA256/Image7.png\")\n",
        "# Example usage\n",
        "secret_message = \"\"\"# Ensure we have enough data to extract the message and IV\n",
        "    if len(extracted_data_bytes) < message_len + iv_len:\n",
        "        return None  # or raise an exception\n",
        "\n",
        "    # Extract message and IV from the final bytes\n",
        "    extracted_message = extracted_data_bytes[:message_len]\n",
        "    extracted_iv = extracted_data_bytes[message_len:message_len + iv_len]\n",
        "    \"\"\"\n",
        "\n",
        "lsb_embed(\"/content/drive/MyDrive/Paper2Images_Input/Image7.png\", secret_message)\n",
        "extracted_message = lsb_extract(\"/content/drive/MyDrive/Output_SHA256/Image7.png\")\n",
        "\n",
        "\n",
        "if extracted_message:\n",
        "    print(\"Extracted message:\", extracted_message)\n",
        "else:\n",
        "    print(\"Message extraction failed or message has been tampered with.\")"
      ],
      "metadata": {
        "colab": {
          "base_uri": "https://localhost:8080/"
        },
        "outputId": "4873577f-603b-46c2-b77a-ce035bd3f9f6",
        "id": "GiFtS39ummW7"
      },
      "execution_count": null,
      "outputs": [
        {
          "output_type": "stream",
          "name": "stdout",
          "text": [
            "Extracted message: # Ensure we have enough data to extract the message and IV\n",
            "    if len(extracted_data_bytes) < message_len + iv_len:\n",
            "        return None  # or raise an exception\n",
            "\n",
            "    # Extract message and IV from the final bytes\n",
            "    extracted_message = extracted_data_bytes[:message_len]\n",
            "    extracted_iv = extracted_data_bytes[message_len:message_len + iv_len]\n",
            "    \n"
          ]
        }
      ]
    },
    {
      "cell_type": "code",
      "source": [],
      "metadata": {
        "id": "OqTYgNmYmwcy"
      },
      "execution_count": null,
      "outputs": []
    },
    {
      "cell_type": "code",
      "source": [
        "def lsb_embed(cover_image_path, secret_message):\n",
        "    \"\"\"Embeds the encrypted message into the least significant bits of the cover image.\"\"\"\n",
        "    img = Image.open(cover_image_path).convert('RGB')\n",
        "    pixels = img.load()\n",
        "    width, height = img.size\n",
        "\n",
        "    # Generate a key using the secure method\n",
        "    key = generate_key()\n",
        "\n",
        "    # Encrypt the secret message\n",
        "    encrypted_message, iv = encrypt_aes(key, secret_message.encode())\n",
        "\n",
        "    # Calculate SHA-256 hash of the encrypted message\n",
        "    hash_obj = SHA256.new()\n",
        "    hash_obj.update(encrypted_message)\n",
        "    message_hash = hash_obj.digest()\n",
        "\n",
        "     # Embed the key, hash, message length, encrypted message, and IV\n",
        "    message_len = len(encrypted_message)  # Calculate the length of the encrypted message\n",
        "    data_to_embed = key + message_hash + message_len.to_bytes(4, byteorder='big') + encrypted_message + iv  # Embed message length\n",
        "    index = 0\n",
        "    for byte in data_to_embed:\n",
        "        for j in range(8):\n",
        "            bit = (byte >> (7 - j)) & 1\n",
        "            r, g, b = pixels[index % width, index // width]\n",
        "            r = (r & ~1) | bit\n",
        "            pixels[index % width, index // width] = (r, g, b)\n",
        "            index += 1\n",
        "\n",
        "    img.save(\"/content/drive/MyDrive/Output_SHA256/Image8.png\")\n",
        "# Example usage\n",
        "secret_message = \"\"\"Make sure its secret if you know we have enough data to extract the message and IV\n",
        "    if len(extracted_data_bytes) < message_len + iv_len:\n",
        "        return None  # or raise an exception.\"\"\"\n",
        "\n",
        "lsb_embed(\"/content/drive/MyDrive/Paper2Images_Input/Image8.png\", secret_message)\n",
        "extracted_message = lsb_extract(\"/content/drive/MyDrive/Output_SHA256/Image8.png\")\n",
        "\n",
        "\n",
        "if extracted_message:\n",
        "    print(\"Extracted message:\", extracted_message)\n",
        "else:\n",
        "    print(\"Message extraction failed or message has been tampered with.\")"
      ],
      "metadata": {
        "colab": {
          "base_uri": "https://localhost:8080/"
        },
        "outputId": "6d529fb9-e2a0-49d5-f7cf-7a33379b8c79",
        "id": "fgjk4C9Pmw2K"
      },
      "execution_count": null,
      "outputs": [
        {
          "output_type": "stream",
          "name": "stdout",
          "text": [
            "Extracted message: Make sure its secret if you know we have enough data to extract the message and IV\n",
            "    if len(extracted_data_bytes) < message_len + iv_len:\n",
            "        return None  # or raise an exception.\n"
          ]
        }
      ]
    },
    {
      "cell_type": "code",
      "source": [],
      "metadata": {
        "id": "jTcFu9ydnAIx"
      },
      "execution_count": null,
      "outputs": []
    },
    {
      "cell_type": "code",
      "source": [
        "def lsb_embed(cover_image_path, secret_message):\n",
        "    \"\"\"Embeds the encrypted message into the least significant bits of the cover image.\"\"\"\n",
        "    img = Image.open(cover_image_path).convert('RGB')\n",
        "    pixels = img.load()\n",
        "    width, height = img.size\n",
        "\n",
        "    # Generate a key using the secure method\n",
        "    key = generate_key()\n",
        "\n",
        "    # Encrypt the secret message\n",
        "    encrypted_message, iv = encrypt_aes(key, secret_message.encode())\n",
        "\n",
        "    # Calculate SHA-256 hash of the encrypted message\n",
        "    hash_obj = SHA256.new()\n",
        "    hash_obj.update(encrypted_message)\n",
        "    message_hash = hash_obj.digest()\n",
        "\n",
        "     # Embed the key, hash, message length, encrypted message, and IV\n",
        "    message_len = len(encrypted_message)  # Calculate the length of the encrypted message\n",
        "    data_to_embed = key + message_hash + message_len.to_bytes(4, byteorder='big') + encrypted_message + iv  # Embed message length\n",
        "    index = 0\n",
        "    for byte in data_to_embed:\n",
        "        for j in range(8):\n",
        "            bit = (byte >> (7 - j)) & 1\n",
        "            r, g, b = pixels[index % width, index // width]\n",
        "            r = (r & ~1) | bit\n",
        "            pixels[index % width, index // width] = (r, g, b)\n",
        "            index += 1\n",
        "\n",
        "    img.save(\"/content/drive/MyDrive/Output_SHA256/Image9.png\")\n",
        "# Example usage\n",
        "secret_message = \"\"\"Extract message and IV from the final bytes\n",
        "    extracted_message = extracted_data_bytes[:message_len]\n",
        "    extracted_iv = extracted_data_bytes[message_len:message_len + iv_len]\n",
        "    \"\"\"\n",
        "\n",
        "lsb_embed(\"/content/drive/MyDrive/Paper2Images_Input/Image9.png\", secret_message)\n",
        "extracted_message = lsb_extract(\"/content/drive/MyDrive/Output_SHA256/Image9.png\")\n",
        "\n",
        "\n",
        "if extracted_message:\n",
        "    print(\"Extracted message:\", extracted_message)\n",
        "else:\n",
        "    print(\"Message extraction failed or message has been tampered with.\")"
      ],
      "metadata": {
        "colab": {
          "base_uri": "https://localhost:8080/"
        },
        "outputId": "128ba1b2-92d5-44a7-e27a-00486015f64c",
        "id": "lVmlmszxnAla"
      },
      "execution_count": null,
      "outputs": [
        {
          "output_type": "stream",
          "name": "stdout",
          "text": [
            "Extracted message: Extract message and IV from the final bytes\n",
            "    extracted_message = extracted_data_bytes[:message_len]\n",
            "    extracted_iv = extracted_data_bytes[message_len:message_len + iv_len]\n",
            "    \n"
          ]
        }
      ]
    },
    {
      "cell_type": "code",
      "source": [],
      "metadata": {
        "id": "HmFnrtlVnJbc"
      },
      "execution_count": null,
      "outputs": []
    },
    {
      "cell_type": "code",
      "source": [
        "def lsb_embed(cover_image_path, secret_message):\n",
        "    \"\"\"Embeds the encrypted message into the least significant bits of the cover image.\"\"\"\n",
        "    img = Image.open(cover_image_path).convert('RGB')\n",
        "    pixels = img.load()\n",
        "    width, height = img.size\n",
        "\n",
        "    # Generate a key using the secure method\n",
        "    key = generate_key()\n",
        "\n",
        "    # Encrypt the secret message\n",
        "    encrypted_message, iv = encrypt_aes(key, secret_message.encode())\n",
        "\n",
        "    # Calculate SHA-256 hash of the encrypted message\n",
        "    hash_obj = SHA256.new()\n",
        "    hash_obj.update(encrypted_message)\n",
        "    message_hash = hash_obj.digest()\n",
        "\n",
        "     # Embed the key, hash, message length, encrypted message, and IV\n",
        "    message_len = len(encrypted_message)  # Calculate the length of the encrypted message\n",
        "    data_to_embed = key + message_hash + message_len.to_bytes(4, byteorder='big') + encrypted_message + iv  # Embed message length\n",
        "    index = 0\n",
        "    for byte in data_to_embed:\n",
        "        for j in range(8):\n",
        "            bit = (byte >> (7 - j)) & 1\n",
        "            r, g, b = pixels[index % width, index // width]\n",
        "            r = (r & ~1) | bit\n",
        "            pixels[index % width, index // width] = (r, g, b)\n",
        "            index += 1\n",
        "\n",
        "    img.save(\"/content/drive/MyDrive/Output_SHA256/Image10.png\")\n",
        "# Example usage\n",
        "secret_message = \"\"\"Extracted_message = extracted_data_bytes[:message_len]\n",
        "    extracted_iv = extracted_data_bytes[message_len:message_len + iv_len]\n",
        "    \"\"\"\n",
        "\n",
        "lsb_embed(\"/content/drive/MyDrive/Paper2Images_Input/Image10.png\", secret_message)\n",
        "extracted_message = lsb_extract(\"/content/drive/MyDrive/Output_SHA256/Image10.png\")\n",
        "\n",
        "\n",
        "if extracted_message:\n",
        "    print(\"Extracted message:\", extracted_message)\n",
        "else:\n",
        "    print(\"Message extraction failed or message has been tampered with.\")"
      ],
      "metadata": {
        "colab": {
          "base_uri": "https://localhost:8080/"
        },
        "outputId": "c3ab164d-5409-4de2-a3fe-26e1de3b21bf",
        "id": "0vnebUg0nJyZ"
      },
      "execution_count": null,
      "outputs": [
        {
          "output_type": "stream",
          "name": "stdout",
          "text": [
            "Extracted message: Extracted_message = extracted_data_bytes[:message_len]\n",
            "    extracted_iv = extracted_data_bytes[message_len:message_len + iv_len]\n",
            "    \n"
          ]
        }
      ]
    },
    {
      "cell_type": "code",
      "source": [],
      "metadata": {
        "id": "c_AUsuBwnSGx"
      },
      "execution_count": null,
      "outputs": []
    }
  ]
}